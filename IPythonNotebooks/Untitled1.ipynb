{
 "cells": [
  {
   "cell_type": "code",
   "execution_count": 1,
   "metadata": {
    "collapsed": false,
    "tags": [
     "worksheet-0"
    ]
   },
   "outputs": [],
   "source": [
    "import evilhangman\n",
    "import pandas as pd"
   ]
  },
  {
   "cell_type": "code",
   "execution_count": 2,
   "metadata": {
    "collapsed": false,
    "tags": [
     "worksheet-0"
    ]
   },
   "outputs": [],
   "source": [
    "dictionary = pd.read_csv(\"dict_en.txt\", sep = '\\n').iloc[:, 0].values.tolist()"
   ]
  },
  {
   "cell_type": "code",
   "execution_count": null,
   "metadata": {
    "collapsed": false,
    "tags": [
     "worksheet-0"
    ]
   },
   "outputs": [],
   "source": [
    "while True:\n",
    "\n",
    "    # Determine initial word\n",
    "\n",
    "    # I have to update the remaining_words!\n",
    "\n",
    "    \n",
    "    \n",
    "    guess = raw_input('Please guess a letter: ')\n",
    "\n",
    "    letter_in_word = game.make_guess(guess)\n",
    "    \n",
    "    print(game.create_families(guess, remaining_words))\n",
    "    print(game.update_family(guess, remaining_words))\n",
    "\n",
    "    status = game.get_status()\n",
    "\n",
    "    # Determine game status\n",
    "    if status == 0:\n",
    "        print(\"Loser\")\n",
    "        break\n",
    "    if status == 1:\n",
    "        print(\"You won\")\n",
    "        break\n",
    "    if status == 2:\n",
    "        pass\n"
   ]
  }
 ],
 "metadata": {},
 "nbformat": 4,
 "nbformat_minor": 0
}
