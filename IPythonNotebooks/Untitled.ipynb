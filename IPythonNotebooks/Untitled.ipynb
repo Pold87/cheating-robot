{
 "cells": [
  {
   "cell_type": "code",
   "execution_count": 1,
   "metadata": {
    "collapsed": true
   },
   "outputs": [],
   "source": [
    "import pandas as pd\n",
    "import numpy as np"
   ]
  },
  {
   "cell_type": "code",
   "execution_count": 12,
   "metadata": {
    "collapsed": false
   },
   "outputs": [],
   "source": [
    "nato = pd.Series.from_csv(\"nato.csv\", header=0)"
   ]
  },
  {
   "cell_type": "code",
   "execution_count": 13,
   "metadata": {
    "collapsed": false
   },
   "outputs": [
    {
     "data": {
      "text/plain": [
       "Alfa           A\n",
       "Bravo          B\n",
       "Charlie        C\n",
       "Delta          D\n",
       "Echo           E\n",
       "Foxtrot        F\n",
       "Golf           G\n",
       "Hotel          H\n",
       "India          I\n",
       "Juliet         J\n",
       "Kilo           K\n",
       "Lima           L\n",
       "Mike           M\n",
       "November       N\n",
       "Oscar          O\n",
       "Papa           P\n",
       "Quebec         Q\n",
       "Romeo          R\n",
       "Sierra         S\n",
       "Tango          T\n",
       "Uniform        U\n",
       "Victor         V\n",
       "Whiskey        W\n",
       "X-Ray          X\n",
       "Yankee         Y\n",
       "Zulu           Z\n",
       "Stop        Stop\n",
       "dtype: object"
      ]
     },
     "execution_count": 13,
     "metadata": {},
     "output_type": "execute_result"
    }
   ],
   "source": [
    "nato"
   ]
  },
  {
   "cell_type": "code",
   "execution_count": 14,
   "metadata": {
    "collapsed": false
   },
   "outputs": [
    {
     "data": {
      "text/plain": [
       "'A'"
      ]
     },
     "execution_count": 14,
     "metadata": {},
     "output_type": "execute_result"
    }
   ],
   "source": [
    "nato['Alfa']"
   ]
  },
  {
   "cell_type": "code",
   "execution_count": 19,
   "metadata": {
    "collapsed": false
   },
   "outputs": [
    {
     "data": {
      "text/plain": [
       "['Alfa',\n",
       " 'Bravo',\n",
       " 'Charlie',\n",
       " 'Delta',\n",
       " 'Echo',\n",
       " 'Foxtrot',\n",
       " 'Golf',\n",
       " 'Hotel',\n",
       " 'India',\n",
       " 'Juliet',\n",
       " 'Kilo',\n",
       " 'Lima',\n",
       " 'Mike',\n",
       " 'November',\n",
       " 'Oscar',\n",
       " 'Papa',\n",
       " 'Quebec',\n",
       " 'Romeo',\n",
       " 'Sierra',\n",
       " 'Tango',\n",
       " 'Uniform',\n",
       " 'Victor',\n",
       " 'Whiskey',\n",
       " 'X-Ray',\n",
       " 'Yankee',\n",
       " 'Zulu',\n",
       " 'Stop']"
      ]
     },
     "execution_count": 19,
     "metadata": {},
     "output_type": "execute_result"
    }
   ],
   "source": [
    "nato.keys().tolist()"
   ]
  },
  {
   "cell_type": "code",
   "execution_count": 9,
   "metadata": {
    "collapsed": false
   },
   "outputs": [
    {
     "name": "stdout",
     "output_type": "stream",
     "text": [
      "heydu wasgeht\n"
     ]
    }
   ],
   "source": [
    "print 'hey' + 'du',\n",
    "print 'was' + 'geht'"
   ]
  }
 ],
 "metadata": {
  "kernelspec": {
   "display_name": "Python 2",
   "language": "python",
   "name": "python2"
  },
  "language_info": {
   "codemirror_mode": {
    "name": "ipython",
    "version": 2
   },
   "file_extension": ".py",
   "mimetype": "text/x-python",
   "name": "python",
   "nbconvert_exporter": "python",
   "pygments_lexer": "ipython2",
   "version": "2.7.9"
  }
 },
 "nbformat": 4,
 "nbformat_minor": 0
}
